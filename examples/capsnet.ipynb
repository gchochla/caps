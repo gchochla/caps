{
 "cells": [
  {
   "cell_type": "code",
   "execution_count": 0,
   "metadata": {
    "colab": {},
    "colab_type": "code",
    "id": "4t8dQ_9U_beD"
   },
   "outputs": [],
   "source": [
    "import torch\n",
    "import torch.nn.functional as F\n",
    "import torch.nn as nn\n",
    "import torch.optim as optim\n",
    "import numpy as np\n",
    "import matplotlib.pyplot as plt\n",
    "\n",
    "from capsules_utils.layers import PrimaryCaps, SemanticCaps, FFDecoder"
   ]
  },
  {
   "cell_type": "code",
   "execution_count": 2,
   "metadata": {
    "colab": {
     "base_uri": "https://localhost:8080/",
     "height": 34
    },
    "colab_type": "code",
    "id": "5dDX1gwgF4Pt",
    "outputId": "856660c2-f4dc-4933-c761-df44fbd083e1"
   },
   "outputs": [
    {
     "name": "stdout",
     "output_type": "stream",
     "text": [
      "Training on GPU!\n"
     ]
    }
   ],
   "source": [
    "TRAIN_ON_GPU = torch.cuda.is_available()\n",
    "\n",
    "if(TRAIN_ON_GPU):\n",
    "    print('Training on GPU!')\n",
    "else:\n",
    "    print('Only CPU available')"
   ]
  },
  {
   "cell_type": "code",
   "execution_count": 0,
   "metadata": {
    "colab": {},
    "colab_type": "code",
    "id": "C68KHvFBFDLM"
   },
   "outputs": [],
   "source": [
    "class CapsNet(nn.Module):\n",
    "    def __init__(self):\n",
    "        super().__init__()\n",
    "        self.conv1 = nn.Conv2d(in_channels=1, out_channels=256, kernel_size=9)\n",
    "        self.primary_caps = PrimaryCaps(n_capsules=32, in_channels=256,\n",
    "                                        capsule_dimension=8, kernel=9, stride=1)\n",
    "        self.digit_caps = SemanticCaps(n_capsules=10, n_prev_capsules=32, capsule_dimension=16,\n",
    "                                       input_size=12*12*8, routing_iterations=3,\n",
    "                                       gpu=TRAIN_ON_GPU)\n",
    "        self.decoder = FFDecoder(layers=[512,1024], output_size=(1, 28, 28),\n",
    "                             input_size=(10, 16), gpu=TRAIN_ON_GPU)\n",
    "\n",
    "    def forward(self, x, y=None, reconstruction=True):\n",
    "        x = F.relu(self.conv1(x))\n",
    "        x = self.primary_caps(x)\n",
    "        x = self.digit_caps(x)\n",
    "\n",
    "        # calculate norms over the feature dimension\n",
    "        # dims: (batch, capsules)\n",
    "        norms = (x ** 2).sum(dim=-1) ** 0.5\n",
    "\n",
    "        if not reconstruction:\n",
    "            return norms\n",
    "\n",
    "        ## create mask for decoder\n",
    "        one_hot_preds = torch.zeros_like(norms)\n",
    "        # insert 1 in place of biggest norm per batch\n",
    "        if y is None:\n",
    "          # get indices of capsules with biggest norms per batch\n",
    "          y = norms.argmax(dim=-1)\n",
    "\n",
    "        one_hot_preds[range(x.size(0)), y] = 1\n",
    "\n",
    "        if TRAIN_ON_GPU:\n",
    "            one_hot_preds = one_hot_preds.cuda()\n",
    "\n",
    "        x = x * one_hot_preds[..., None]\n",
    "\n",
    "        r = self.decoder(x)\n",
    "\n",
    "        return r, norms"
   ]
  },
  {
   "cell_type": "code",
   "execution_count": 0,
   "metadata": {
    "colab": {},
    "colab_type": "code",
    "id": "NqiG7J0RFOSD"
   },
   "outputs": [],
   "source": [
    "def margin_loss(norms, labels, m_plus=0.9, m_minus=0.1, lmbda=0.5):\n",
    "    # transform to one hot encoding\n",
    "    oh_labels = torch.zeros_like(norms)\n",
    "    oh_labels[range(norms.size(0)), labels] = 1 \n",
    "\n",
    "    present = F.relu(m_plus - norms) ** 2\n",
    "    absent = F.relu(norms - m_minus) ** 2\n",
    "    loss = oh_labels * present + lmbda * (1. - oh_labels) * absent\n",
    "\n",
    "    return loss.sum()\n",
    "\n",
    "def reconstruction_loss(reconstruction, groundtruth):\n",
    "    return nn.MSELoss(reduction='sum')(reconstruction, groundtruth)\n",
    "\n",
    "def capsnet_loss(norms, reconstructions, labels, images,\n",
    "                 m_plus=0.9, m_minus=0.1, margin_c=0.5, rec_c=0.0005):\n",
    "  # avg over batch  \n",
    "    return (margin_loss(norms, labels, m_plus, m_minus, margin_c) + \\\n",
    "            rec_c * reconstruction_loss(reconstructions, images)) / norms.size(0)"
   ]
  },
  {
   "cell_type": "code",
   "execution_count": 5,
   "metadata": {
    "colab": {
     "base_uri": "https://localhost:8080/",
     "height": 280,
     "referenced_widgets": [
      "c38219e0523145eead65bd4febbcda8b",
      "97b28df5cfeb44eba01c597ec4cc5ea3",
      "659496eadd7b4b858bc7bfebe4bd0e82",
      "951898e40fc34f3fb587510b9a6a4c87"
     ]
    },
    "colab_type": "code",
    "id": "TDERFzaMFPAr",
    "outputId": "d0b2c854-a02e-452b-92ef-74d849d33dbe"
   },
   "outputs": [
    {
     "name": "stdout",
     "output_type": "stream",
     "text": [
      "Downloading http://yann.lecun.com/exdb/mnist/train-images-idx3-ubyte.gz to data/MNIST/raw/train-images-idx3-ubyte.gz\n"
     ]
    },
    {
     "data": {
      "application/vnd.jupyter.widget-view+json": {
       "model_id": "c38219e0523145eead65bd4febbcda8b",
       "version_major": 2,
       "version_minor": 0
      },
      "text/plain": [
       "HBox(children=(IntProgress(value=1, bar_style='info', max=1), HTML(value='')))"
      ]
     },
     "metadata": {
      "tags": []
     },
     "output_type": "display_data"
    },
    {
     "name": "stdout",
     "output_type": "stream",
     "text": [
      "\n",
      "Extracting data/MNIST/raw/train-images-idx3-ubyte.gz to data/MNIST/raw\n",
      "Downloading http://yann.lecun.com/exdb/mnist/train-labels-idx1-ubyte.gz to data/MNIST/raw/train-labels-idx1-ubyte.gz\n"
     ]
    },
    {
     "data": {
      "application/vnd.jupyter.widget-view+json": {
       "model_id": "97b28df5cfeb44eba01c597ec4cc5ea3",
       "version_major": 2,
       "version_minor": 0
      },
      "text/plain": [
       "HBox(children=(IntProgress(value=1, bar_style='info', max=1), HTML(value='')))"
      ]
     },
     "metadata": {
      "tags": []
     },
     "output_type": "display_data"
    },
    {
     "name": "stdout",
     "output_type": "stream",
     "text": [
      "\n",
      "Extracting data/MNIST/raw/train-labels-idx1-ubyte.gz to data/MNIST/raw\n",
      "Downloading http://yann.lecun.com/exdb/mnist/t10k-images-idx3-ubyte.gz to data/MNIST/raw/t10k-images-idx3-ubyte.gz\n"
     ]
    },
    {
     "data": {
      "application/vnd.jupyter.widget-view+json": {
       "model_id": "659496eadd7b4b858bc7bfebe4bd0e82",
       "version_major": 2,
       "version_minor": 0
      },
      "text/plain": [
       "HBox(children=(IntProgress(value=1, bar_style='info', max=1), HTML(value='')))"
      ]
     },
     "metadata": {
      "tags": []
     },
     "output_type": "display_data"
    },
    {
     "name": "stdout",
     "output_type": "stream",
     "text": [
      "\n",
      "Extracting data/MNIST/raw/t10k-images-idx3-ubyte.gz to data/MNIST/raw\n",
      "Downloading http://yann.lecun.com/exdb/mnist/t10k-labels-idx1-ubyte.gz to data/MNIST/raw/t10k-labels-idx1-ubyte.gz\n"
     ]
    },
    {
     "data": {
      "application/vnd.jupyter.widget-view+json": {
       "model_id": "951898e40fc34f3fb587510b9a6a4c87",
       "version_major": 2,
       "version_minor": 0
      },
      "text/plain": [
       "HBox(children=(IntProgress(value=1, bar_style='info', max=1), HTML(value='')))"
      ]
     },
     "metadata": {
      "tags": []
     },
     "output_type": "display_data"
    },
    {
     "name": "stdout",
     "output_type": "stream",
     "text": [
      "\n",
      "Extracting data/MNIST/raw/t10k-labels-idx1-ubyte.gz to data/MNIST/raw\n",
      "Processing...\n",
      "Done!\n"
     ]
    }
   ],
   "source": [
    "from torchvision import datasets\n",
    "import torchvision.transforms as transforms\n",
    "\n",
    "# number of subprocesses to use for data loading\n",
    "num_workers = 0\n",
    "# how many samples per batch to load\n",
    "batch_size = 64\n",
    "\n",
    "# convert data to Tensors\n",
    "transform = transforms.ToTensor()\n",
    "\n",
    "# choose the training and test datasets\n",
    "train_data = datasets.MNIST(root='data', train=True,\n",
    "                            download=True, transform=transform)\n",
    "\n",
    "test_data = datasets.MNIST(root='data', train=False, \n",
    "                           download=True, transform=transform)\n",
    "\n",
    "# prepare data loaders\n",
    "train_loader = torch.utils.data.DataLoader(train_data, \n",
    "                                           batch_size=batch_size, \n",
    "                                           num_workers=num_workers)\n",
    "\n",
    "test_loader = torch.utils.data.DataLoader(test_data, \n",
    "                                          batch_size=batch_size, \n",
    "                                          num_workers=num_workers)"
   ]
  },
  {
   "cell_type": "code",
   "execution_count": 0,
   "metadata": {
    "colab": {},
    "colab_type": "code",
    "id": "hEo4dvogFT4h"
   },
   "outputs": [],
   "source": [
    "import time\n",
    "\n",
    "def train(net, epochs, report=30):\n",
    "    net.train()\n",
    "\n",
    "    optimizer = optim.Adam(net.parameters())\n",
    "\n",
    "    train_history = []\n",
    "    for epoch in range(epochs):\n",
    "        t0 = time.time()\n",
    "        print(f'Epoch {epoch+1}')\n",
    "        epoch_loss = torch.tensor(0.)\n",
    "        for batch, (X_batch, y_batch) in enumerate(train_loader):\n",
    "            if TRAIN_ON_GPU:\n",
    "                X_batch, y_batch = X_batch.cuda(), y_batch.cuda()\n",
    "            reconstructions, norms = net(X_batch, y_batch)\n",
    "            loss = capsnet_loss(norms=norms, reconstructions=reconstructions,\n",
    "                                labels=y_batch, images=X_batch)\n",
    "            epoch_loss += loss\n",
    "\n",
    "            optimizer.zero_grad()\n",
    "            loss.backward()\n",
    "            optimizer.step()\n",
    "\n",
    "            if not (batch + 1) % report:\n",
    "                print(f'\\tBatch {batch}\\n\\t\\tTraining Loss: {epoch_loss.item():.3f}\\n\\t\\tTime: {time.time()-t0:.3f}s')\n",
    "                train_history.append(epoch_loss.item())\n",
    "                epoch_loss = torch.tensor(0.)\n",
    "                t0 = time.time()"
   ]
  },
  {
   "cell_type": "code",
   "execution_count": 7,
   "metadata": {
    "colab": {
     "base_uri": "https://localhost:8080/",
     "height": 625
    },
    "colab_type": "code",
    "id": "Lckfx-_cFXQd",
    "outputId": "8f922e47-4bcc-4a8b-c401-5c367a59a5ca"
   },
   "outputs": [
    {
     "name": "stdout",
     "output_type": "stream",
     "text": [
      "Epoch 1\n",
      "\tBatch 459\n",
      "\t\tTraining Loss: 39.952\n",
      "\t\tTime: 43.260s\n",
      "\tBatch 919\n",
      "\t\tTraining Loss: 17.850\n",
      "\t\tTime: 44.406s\n",
      "Epoch 2\n",
      "\tBatch 459\n",
      "\t\tTraining Loss: 14.820\n",
      "\t\tTime: 46.033s\n",
      "\tBatch 919\n",
      "\t\tTraining Loss: 13.648\n",
      "\t\tTime: 45.354s\n",
      "Epoch 3\n",
      "\tBatch 459\n",
      "\t\tTraining Loss: 12.342\n",
      "\t\tTime: 45.680s\n",
      "\tBatch 919\n",
      "\t\tTraining Loss: 11.536\n",
      "\t\tTime: 45.507s\n",
      "Epoch 4\n",
      "\tBatch 459\n",
      "\t\tTraining Loss: 10.888\n",
      "\t\tTime: 45.483s\n",
      "\tBatch 919\n",
      "\t\tTraining Loss: 10.080\n",
      "\t\tTime: 45.568s\n",
      "Epoch 5\n",
      "\tBatch 459\n",
      "\t\tTraining Loss: 9.668\n",
      "\t\tTime: 45.499s\n",
      "\tBatch 919\n",
      "\t\tTraining Loss: 8.837\n",
      "\t\tTime: 45.539s\n"
     ]
    }
   ],
   "source": [
    "net = CapsNet()\n",
    "if TRAIN_ON_GPU:\n",
    "    net = net.cuda()\n",
    "train(net, 5, report=460)"
   ]
  },
  {
   "cell_type": "code",
   "execution_count": 0,
   "metadata": {
    "colab": {},
    "colab_type": "code",
    "id": "pQ0RlX0tFaHp"
   },
   "outputs": [],
   "source": [
    "for X_batch, y_batch in test_loader:\n",
    "    if TRAIN_ON_GPU:\n",
    "        X_batch, y_batch = X_batch.cuda(), y_batch.cuda()\n",
    "    reconstruction, norms = net(X_batch)\n",
    "    break"
   ]
  },
  {
   "cell_type": "code",
   "execution_count": 0,
   "metadata": {
    "colab": {},
    "colab_type": "code",
    "id": "_gEDW5qdJnOC"
   },
   "outputs": [],
   "source": [
    "if TRAIN_ON_GPU:\n",
    "    norms, X_batch, y_batch, reconstruction = norms.detach().cpu(), X_batch.cpu(), y_batch.cpu(), reconstruction.detach().cpu()"
   ]
  },
  {
   "cell_type": "code",
   "execution_count": 10,
   "metadata": {
    "colab": {
     "base_uri": "https://localhost:8080/",
     "height": 304
    },
    "colab_type": "code",
    "id": "aeScDW7BJqVz",
    "outputId": "6aeb56f1-4ec5-4712-ed88-0d205b90518a"
   },
   "outputs": [
    {
     "data": {
      "image/png": "[encoded data removed]",
      "text/plain": [
       "<Figure size 936x360 with 20 Axes>"
      ]
     },
     "metadata": {
      "tags": []
     },
     "output_type": "display_data"
    }
   ],
   "source": [
    "fg, axs = plt.subplots(nrows=2, ncols=10, gridspec_kw={'hspace': 0, 'wspace': 0.1}, figsize=(13,5))\n",
    "fg.suptitle('Groundtruths - Reconstructions')\n",
    "\n",
    "for i in range(10):\n",
    "    axs[0, i].imshow(X_batch[i].squeeze(), cmap='binary')\n",
    "    axs[1, i].imshow(reconstruction[i].squeeze(), cmap='binary')\n",
    "    axs[0, i].axis('off')\n",
    "    axs[1, i].axis('off')\n",
    "plt.show()"
   ]
  },
  {
   "cell_type": "code",
   "execution_count": 0,
   "metadata": {
    "colab": {},
    "colab_type": "code",
    "id": "BGlkyns8KCpv"
   },
   "outputs": [],
   "source": [
    "def test(net):\n",
    "    net.eval()\n",
    "    evals = torch.empty(len(test_data))\n",
    "\n",
    "    for batch, (X_batch, y_batch) in enumerate(test_loader):\n",
    "        if TRAIN_ON_GPU:\n",
    "            X_batch, y_batch = X_batch.cuda(), y_batch.cuda()\n",
    "        norms = net(X_batch, reconstruction=False)\n",
    "        preds = norms.argmax(dim=-1)\n",
    "        try:\n",
    "            evals[batch * batch_size : (batch+1) * batch_size] = (preds == y_batch)\n",
    "        except IndexError:\n",
    "            evals[batch * batch_size:] = (preds == y_batch)\n",
    "    return evals.mean().item()"
   ]
  },
  {
   "cell_type": "code",
   "execution_count": 12,
   "metadata": {
    "colab": {
     "base_uri": "https://localhost:8080/",
     "height": 34
    },
    "colab_type": "code",
    "id": "uOA0OAbBS9St",
    "outputId": "62de3f07-a13b-4db7-eb68-6117135ad509"
   },
   "outputs": [
    {
     "name": "stdout",
     "output_type": "stream",
     "text": [
      "CapsNet Accuracy: 98.78%\n"
     ]
    }
   ],
   "source": [
    "print(f'CapsNet Accuracy: {test(net)*100:.2f}%')"
   ]
  },
  {
   "cell_type": "code",
   "execution_count": 0,
   "metadata": {
    "colab": {},
    "colab_type": "code",
    "id": "LlDAsIDvx-n8"
   },
   "outputs": [],
   "source": []
  }
 ],
 "metadata": {
  "accelerator": "GPU",
  "colab": {
   "name": "capsnet.ipynb",
   "provenance": []
  },
  "kernelspec": {
   "display_name": "Python 3",
   "language": "python",
   "name": "python3"
  },
  "language_info": {
   "codemirror_mode": {
    "name": "ipython",
    "version": 3
   },
   "file_extension": ".py",
   "mimetype": "text/x-python",
   "name": "python",
   "nbconvert_exporter": "python",
   "pygments_lexer": "ipython3",
   "version": "3.6.9"
  },
  "widgets": {
   "application/vnd.jupyter.widget-state+json": {
    "659496eadd7b4b858bc7bfebe4bd0e82": {
     "model_module": "@jupyter-widgets/controls",
     "model_name": "HBoxModel",
     "state": {
      "_dom_classes": [],
      "_model_module": "@jupyter-widgets/controls",
      "_model_module_version": "1.5.0",
      "_model_name": "HBoxModel",
      "_view_count": null,
      "_view_module": "@jupyter-widgets/controls",
      "_view_module_version": "1.5.0",
      "_view_name": "HBoxView",
      "box_style": "",
      "children": [
       "IPY_MODEL_c0f769c26f81468f96d054f53ed717c7",
       "IPY_MODEL_9d2fa4f29ff74989a48c2a682d3c61f8"
      ],
      "layout": "IPY_MODEL_be74a307064c4d698ab756f54f7e5618"
     }
    },
    "951898e40fc34f3fb587510b9a6a4c87": {
     "model_module": "@jupyter-widgets/controls",
     "model_name": "HBoxModel",
     "state": {
      "_dom_classes": [],
      "_model_module": "@jupyter-widgets/controls",
      "_model_module_version": "1.5.0",
      "_model_name": "HBoxModel",
      "_view_count": null,
      "_view_module": "@jupyter-widgets/controls",
      "_view_module_version": "1.5.0",
      "_view_name": "HBoxView",
      "box_style": "",
      "children": [
       "IPY_MODEL_4011ced7dd5145d182a33c9f8bd28a6e",
       "IPY_MODEL_2565bebbf5b14428a3e2d6449fa2e6dd"
      ],
      "layout": "IPY_MODEL_070daf771bc3409ea1dbaf142fafb69b"
     }
    },
    "97b28df5cfeb44eba01c597ec4cc5ea3": {
     "model_module": "@jupyter-widgets/controls",
     "model_name": "HBoxModel",
     "state": {
      "_dom_classes": [],
      "_model_module": "@jupyter-widgets/controls",
      "_model_module_version": "1.5.0",
      "_model_name": "HBoxModel",
      "_view_count": null,
      "_view_module": "@jupyter-widgets/controls",
      "_view_module_version": "1.5.0",
      "_view_name": "HBoxView",
      "box_style": "",
      "children": [
       "IPY_MODEL_1f8fcfc75c244e1a946a958e5271d8e4",
       "IPY_MODEL_d48a8205c66144b5882ea414a268e31b"
      ],
      "layout": "IPY_MODEL_6929175547fd488a961bccb8eb99a4a2"
     }
    },
    "c38219e0523145eead65bd4febbcda8b": {
     "model_module": "@jupyter-widgets/controls",
     "model_name": "HBoxModel",
     "state": {
      "_dom_classes": [],
      "_model_module": "@jupyter-widgets/controls",
      "_model_module_version": "1.5.0",
      "_model_name": "HBoxModel",
      "_view_count": null,
      "_view_module": "@jupyter-widgets/controls",
      "_view_module_version": "1.5.0",
      "_view_name": "HBoxView",
      "box_style": "",
      "children": [
       "IPY_MODEL_4c56e87e932a43319b44d6a67ae440b9",
       "IPY_MODEL_1461dd38f2bc4ef390e0f54495da2756"
      ],
      "layout": "IPY_MODEL_afeee668bfa246858ddbe8b54479a5b2"
     }
    }
   }
  }
 },
 "nbformat": 4,
 "nbformat_minor": 1
}
